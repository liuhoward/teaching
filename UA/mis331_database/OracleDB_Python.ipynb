{
 "cells": [
  {
   "cell_type": "markdown",
   "id": "30d4ae4b",
   "metadata": {},
   "source": [
    "## Oracle Database Connection in Python"
   ]
  },
  {
   "cell_type": "markdown",
   "id": "dc2ca078",
   "metadata": {},
   "source": [
    "online demo:  \n",
    "https://nbviewer.org/github/liuhoward/teaching/blob/master/UA/mis331_database/OracleDB_Python.ipynb\n",
    "\n",
    "\n",
    "more detailed examples:  \n",
    "https://oracle.github.io/python-cx_Oracle/samples/tutorial/Python-and-Oracle-Database-Scripting-for-the-Future.html"
   ]
  },
  {
   "cell_type": "markdown",
   "id": "feabbba1",
   "metadata": {},
   "source": [
    "## install Anaconda:\n",
    "https://docs.anaconda.com/anaconda/install/index.html\n",
    "\n",
    "\n",
    "## install Oracle instant client\n",
    "Download oracle instant client 19.14, install it :  \n",
    "Download: https://www.oracle.com/database/technologies/instant-client/downloads.html\n",
    "Instructions: https://www.oracle.com/database/technologies/appdev/python/quickstartpythononprem.html\n",
    "\n",
    "suppose extract it in D:\\instantclient_19_14  \n",
    "set up evironment variable path:  \n",
    "![1](https://github.com/liuhoward/teaching/raw/master/UA/mis331_database/assets/1.PNG)\n",
    "![2](https://github.com/liuhoward/teaching/raw/master/UA/mis331_database/assets/2.PNG)\n",
    "![3](https://github.com/liuhoward/teaching/raw/master/UA/mis331_database/assets/3.png)\n",
    "![4](https://github.com/liuhoward/teaching/raw/master/UA/mis331_database/assets/4.PNG)\n",
    "![5](https://github.com/liuhoward/teaching/raw/master/UA/mis331_database/assets/5.PNG)\n",
    "\n",
    "\n",
    "## install Microsoft Visual Studio 2017 Redistributable (required by Oracle instant client)\n",
    "Download: https://docs.microsoft.com/en-US/cpp/windows/latest-supported-vc-redist?view=msvc-170  \n",
    "![6](https://github.com/liuhoward/teaching/raw/master/UA/mis331_database/assets/6.PNG)  \n",
    "\n",
    "\n",
    "\n",
    "## install cx_Oracle\n",
    "\n",
    "For communicating with any database through our Python program we require some connector which is nothing but the _cx\\_Oracle_ module.  \n",
    "\n",
    "**For installing cx-Oracle :** \n",
    "\n",
    "open Anaconda Powershell, execute:\n",
    "\n",
    "```\n",
    "pip install cx-Oracle\n",
    "```\n",
    "\n",
    "\n",
    "By this command, you can install cx-Oracle package.  \n"
   ]
  },
  {
   "cell_type": "markdown",
   "id": "6f5dcd87",
   "metadata": {},
   "source": [
    "\n",
    "## Oracle Database with cx-Oracle\n",
    "\n",
    "\n",
    "\n",
    "*   **Import database specific module**   \n",
    "    Ex. import cx\\_Oracle\n",
    "*   **connect():** Now Establish a connection between the Python program and Oracle database by using connect() function.   \n",
    "     \n",
    "\n",
    "```plain\n",
    "con = cx_Oracle.connect('username/password@localhost')\n",
    "```\n",
    "\n",
    "*   **cursor():** To execute a SQL query and to provide results some special object is required that is nothing but cursor() object.  \n",
    "     \n",
    "\n",
    "```plain\n",
    "cursor = cx_Oracle.cursor()\n",
    "```\n",
    "\n",
    "*   **execute/executemany method :**  \n",
    "     \n",
    "\n",
    "> cursor.execute(sqlquery) – – – -> to execute a single query.   \n",
    "> cursor.executemany(sqlqueries) – – – -> to execute a single query with multiple bind variables/place holders.\n",
    "\n",
    "*   **commit():** For DML(Data Manipulation Language) queries that comprise operations like update, insert, delete. We need to commit() then only the result reflects in the database.\n",
    "*   **fetchone(), fetchmany(int), fetchall():**\n",
    "    1.  fetchone() : This method is used to fetch one single row from the top of the result set.\n",
    "    2.  fetchmany(int): This method is used to fetch a limited number of rows based on the argument passed in it.\n",
    "    3.  fetchall() : This method is used to fetch all rows from the result set.\n",
    "*   **close():** After all done it is mandatory to close all operations.  \n",
    "     \n",
    "\n",
    "```plain\n",
    "cursor.close()\n",
    "con.close()\n",
    "```"
   ]
  },
  {
   "cell_type": "markdown",
   "id": "7c0bf6c5",
   "metadata": {},
   "source": [
    "## **Execution of SQL statement:** \n",
    "\n",
    "\n",
    "### **1\\. Creation of table**"
   ]
  },
  {
   "cell_type": "code",
   "execution_count": 1,
   "id": "1f9da6a9",
   "metadata": {},
   "outputs": [
    {
     "name": "stdout",
     "output_type": "stream",
     "text": [
      "11.2.0.2.0\n",
      "Table Created successfully\n"
     ]
    }
   ],
   "source": [
    "# importing module\n",
    "import cx_Oracle\n",
    "\n",
    "# get your username and password from https://app.myeducator.com/custom/course_617.view_database_credentials/617saaaaaabaa/\n",
    "\n",
    "username = 'UXXXXXX'\n",
    "password = 'XXXXXXXXXXX'\n",
    "\n",
    "\n",
    "# Create a table in Oracle database\n",
    "try:\n",
    " \n",
    "    con = cx_Oracle.connect(f'{username}/{password}@oracle-sqlgrading.myed-eng.net:1521')\n",
    "    print(con.version)\n",
    " \n",
    "    # Now execute the sqlquery\n",
    "    cursor = con.cursor()\n",
    " \n",
    "    # Creating a table employee\n",
    "    cursor.execute(\"CREATE TABLE Employee(empid integer primary key, name varchar2(30), salary number(10, 2))\")\n",
    " \n",
    "    print(\"Table Created successfully\")\n",
    " \n",
    "except cx_Oracle.DatabaseError as e:\n",
    "    print(\"There is a problem with Oracle\", e)\n",
    " \n",
    "# by writing finally if any error occurs\n",
    "# then also we can close the all database operation\n",
    "finally:\n",
    "    if cursor:\n",
    "        cursor.close()\n",
    "    if con:\n",
    "        con.close()"
   ]
  },
  {
   "cell_type": "markdown",
   "id": "232494f1",
   "metadata": {},
   "source": [
    "DDL statements don’t require to be committed. They are automatically committed. In the above program, I have used execute() method to execute an SQL statement.  \n",
    "\n",
    "\n",
    "\n",
    "\n",
    "### **2\\. Inserting a record into table using execute() method**"
   ]
  },
  {
   "cell_type": "code",
   "execution_count": 2,
   "id": "b2e3b1d7",
   "metadata": {},
   "outputs": [
    {
     "name": "stdout",
     "output_type": "stream",
     "text": [
      "Record inserted successfully\n"
     ]
    }
   ],
   "source": [
    "# importing module\n",
    "import cx_Oracle\n",
    " \n",
    "# Inserting a record into a table in Oracle database\n",
    "try:\n",
    "    con = cx_Oracle.connect(f'{username}/{password}@oracle-sqlgrading.myed-eng.net:1521')\n",
    "    cursor = con.cursor()\n",
    "     \n",
    "    #con.autocommit = True\n",
    "    # Inserting a record into table employee\n",
    "    cursor.execute(\"\"\"insert into employee values(10001,'Rahul',50000.50)\"\"\")\n",
    " \n",
    "    # commit() to make changes reflect in the database\n",
    "    con.commit()\n",
    "    print('Record inserted successfully')\n",
    " \n",
    "except cx_Oracle.DatabaseError as e:\n",
    "    print(\"There is a problem with Oracle\", e)\n",
    " \n",
    "# by writing finally if any error occurs\n",
    "# then also we can close the all database operation\n",
    "finally:\n",
    "    if cursor:\n",
    "        cursor.close()\n",
    "    if con:\n",
    "        con.close()"
   ]
  },
  {
   "cell_type": "markdown",
   "id": "d7c37cde",
   "metadata": {},
   "source": [
    "Once we execute any DML statement it is required to commit the transaction. You can commit a transaction in 2 ways: –\n",
    "\n",
    "1.  con.commit(). This is used to commit a transaction manually.\n",
    "2.  con.autocommit = True. This is used to commit a transaction automatically.\n",
    "\n",
    "\n",
    "\n",
    "### **3\\. Inserting multiple records into** a **table using executemany() method**\n",
    "\n"
   ]
  },
  {
   "cell_type": "code",
   "execution_count": 3,
   "id": "d52aaa03",
   "metadata": {},
   "outputs": [
    {
     "name": "stdout",
     "output_type": "stream",
     "text": [
      "Multiple records are inserted successfully\n"
     ]
    }
   ],
   "source": [
    "import cx_Oracle\n",
    " \n",
    "# Load data from a csv file into Oracle table using executemany\n",
    "try:\n",
    "    con = cx_Oracle.connect(f'{username}/{password}@oracle-sqlgrading.myed-eng.net:1521')\n",
    " \n",
    "except cx_Oracle.DatabaseError as er:\n",
    "    print('There is an error in Oracle database:', er)\n",
    " \n",
    "else:\n",
    "    try:\n",
    "        cur = con.cursor()\n",
    "        data = [[10007, 'Vikram', 48000.0], [10008, 'Sunil', 65000.1], [10009, 'Sameer', 75000.0]]\n",
    " \n",
    "        cur = con.cursor()\n",
    "        # Inserting multiple records into employee table\n",
    "        # (:1,:2,:3) are place holders. They pick data from a list supplied as argument\n",
    "        cur.executemany('insert into employee values(:1,:2,:3)', data)\n",
    " \n",
    "    except cx_Oracle.DatabaseError as er:\n",
    "        print('There is an error in Oracle database:', er)\n",
    " \n",
    "    except Exception as er:\n",
    "        print(er)\n",
    " \n",
    "    else:\n",
    "        # To commit the transaction manually\n",
    "        con.commit()\n",
    "        print('Multiple records are inserted successfully')\n",
    " \n",
    "finally:\n",
    "    if cur:\n",
    "        cur.close()\n",
    "    if con:\n",
    "        con.close()"
   ]
  },
  {
   "cell_type": "markdown",
   "id": "98e67ead",
   "metadata": {},
   "source": [
    "There might be times when it is required to execute a SQL statement multiple times based on the different values supplied to it each time. This can be achieved using executemany() method. We supply a list containing a list of values that will replace placeholders in a SQL query to be executed. \n",
    "\n",
    "From the above case\n",
    "\n",
    "*   :1 is substituted by value 10007\n",
    "*   :2 is substituted by value ‘Vikram’\n",
    "*   :3 is substituted by value 48000.0\n",
    "\n",
    "And so on(next list of values in a given list)\n",
    "\n",
    "Similarly, you can supply a list of dictionaries. But instead of placeholder, we will use the bind variable( discussed later).\n",
    "\n",
    "\n",
    "\n",
    "### **4\\. View result set from a select query using fetchall(), fetchmany(int), fetchone()**\n",
    "\n",
    "\n"
   ]
  },
  {
   "cell_type": "code",
   "execution_count": 4,
   "id": "40c3082b",
   "metadata": {},
   "outputs": [
    {
     "name": "stdout",
     "output_type": "stream",
     "text": [
      "[(10001, 'Rahul', 50000.5), (10007, 'Vikram', 48000.0), (10008, 'Sunil', 65000.1), (10009, 'Sameer', 75000.0)]\n",
      "[(10001, 'Rahul', 50000.5), (10007, 'Vikram', 48000.0), (10008, 'Sunil', 65000.1)]\n",
      "(10001, 'Rahul', 50000.5)\n"
     ]
    }
   ],
   "source": [
    "import cx_Oracle\n",
    " \n",
    "try:\n",
    "    con = cx_Oracle.connect(f'{username}/{password}@oracle-sqlgrading.myed-eng.net:1521')\n",
    " \n",
    "except cx_Oracle.DatabaseError as er:\n",
    "    print('There is an error in the Oracle database:', er)\n",
    " \n",
    "else:\n",
    "    try:\n",
    "        cur = con.cursor()\n",
    " \n",
    "        # fetchall() is used to fetch all records from result set\n",
    "        cur.execute('select * from employee')\n",
    "        rows = cur.fetchall()\n",
    "        print(rows)\n",
    " \n",
    "        # fetchmany(int) is used to fetch limited number of records from result set based on integer argument passed in it\n",
    "        cur.execute('select * from employee')\n",
    "        rows = cur.fetchmany(3)\n",
    "        print(rows)\n",
    " \n",
    "        # fetchone() is used fetch one record from top of the result set\n",
    "        cur.execute('select * from employee')\n",
    "        rows = cur.fetchone()\n",
    "        print(rows)\n",
    " \n",
    "    except cx_Oracle.DatabaseError as er:\n",
    "        print('There is an error in the Oracle database:', er)\n",
    " \n",
    "    except Exception as er:\n",
    "        print('Error:'+str(er))\n",
    " \n",
    "    finally:\n",
    "        if cur:\n",
    "            cur.close()\n",
    " \n",
    "finally:\n",
    "    if con:\n",
    "        con.close()"
   ]
  },
  {
   "cell_type": "markdown",
   "id": "a2962f12",
   "metadata": {},
   "source": [
    "In the above program, we have used 3 methods \n",
    "\n",
    "1.  **fetchall() :** The _fetchall()_ is used to fetch all records from the result set.\n",
    "2.  **fetchmany(int) :** The _fetchmany(int)_ is used to fetch the limited number of records from the result set based on the integer argument passed in it.\n",
    "3.  **fetchone() :** The _fetchone()_ is used to fetch one record from the top of the result set.\n",
    "\n",
    "### **5\\. View result set from a select query using bind variable**\n",
    "\n"
   ]
  },
  {
   "cell_type": "code",
   "execution_count": 5,
   "id": "8c070a78",
   "metadata": {},
   "outputs": [
    {
     "name": "stdout",
     "output_type": "stream",
     "text": [
      "[(10001, 'Rahul', 50000.5), (10008, 'Sunil', 65000.1), (10009, 'Sameer', 75000.0)]\n"
     ]
    }
   ],
   "source": [
    "import cx_Oracle\n",
    " \n",
    "try:\n",
    "    con = cx_Oracle.connect(f'{username}/{password}@oracle-sqlgrading.myed-eng.net:1521')\n",
    " \n",
    "except cx_Oracle.DatabaseError as er:\n",
    "    print('There is error in the Oracle database:', er)\n",
    " \n",
    "else:\n",
    "    try:\n",
    "        cur = con.cursor()\n",
    " \n",
    "        cur.execute('select * from employee where salary > :sal', {'sal': 50000})\n",
    "        rows = cur.fetchall()\n",
    "        print(rows)\n",
    " \n",
    "    except cx_Oracle.DatabaseError as er:\n",
    "        print('There is error in the Oracle database:', er)\n",
    " \n",
    "    except Exception as er:\n",
    "        print('Error:', er)\n",
    " \n",
    "    finally:\n",
    "        if cur:\n",
    "            cur.close()\n",
    " \n",
    "finally:\n",
    "    if con:\n",
    "        con.close()"
   ]
  },
  {
   "cell_type": "markdown",
   "id": "5c381317",
   "metadata": {},
   "source": [
    "In this case, I have passed a dictionary in execute() method. This dictionary contains the name of the bind variable as a key, and it’s corresponding value. When the SQL query is executed, value from the key is substituted in place of bind variable."
   ]
  }
 ],
 "metadata": {
  "kernelspec": {
   "display_name": "Python 3 (ipykernel)",
   "language": "python",
   "name": "python3"
  },
  "language_info": {
   "codemirror_mode": {
    "name": "ipython",
    "version": 3
   },
   "file_extension": ".py",
   "mimetype": "text/x-python",
   "name": "python",
   "nbconvert_exporter": "python",
   "pygments_lexer": "ipython3",
   "version": "3.9.7"
  }
 },
 "nbformat": 4,
 "nbformat_minor": 5
}
